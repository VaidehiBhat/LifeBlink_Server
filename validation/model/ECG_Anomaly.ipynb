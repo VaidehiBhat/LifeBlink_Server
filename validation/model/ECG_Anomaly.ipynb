{
 "cells": [
  {
   "cell_type": "code",
   "execution_count": null,
   "id": "f31b9799",
   "metadata": {},
   "outputs": [],
   "source": [
    "# Imports\n",
    "import pandas as pd \n",
    "import pywt\n",
    "from sklearn.ensemble import IsolationForest\n",
    "import plotly.express as px\n",
    "import numpy as np\n",
    "from sklearn.model_selection import train_test_split\n",
    "from sklearn.cluster import KMeans"
   ]
  },
  {
   "cell_type": "code",
   "execution_count": null,
   "id": "d6bb1131",
   "metadata": {},
   "outputs": [],
   "source": [
    "df = pd.read_csv('ecg.csv')\n",
    "df.columns = [f\"value_{i}\" for i in range(len(df.iloc[0, :]))]\n",
    "df"
   ]
  },
  {
   "cell_type": "code",
   "execution_count": null,
   "id": "429d1ab0",
   "metadata": {},
   "outputs": [],
   "source": [
    "list = []\n",
    "for i in range(len(df.iloc[:,0])):\n",
    "    x=pywt.wavedec(df.iloc[i,:-1], wavelet = 'bior3.3', level = 2)[0][2:-2]\n",
    "    x = (x - np.mean(x))/np.std(x)\n",
    "    list.append(x)\n",
    "\n",
    "df_feat = pd.DataFrame(data = list)\n",
    "df_feat['label'] = df.iloc[:, -1]\n",
    "y = df_feat['label']\n",
    "X = df_feat.iloc[:, :-1]"
   ]
  },
  {
   "cell_type": "code",
   "execution_count": null,
   "id": "3f0eb8a7",
   "metadata": {},
   "outputs": [],
   "source": [
    "model = KMeans(n_clusters= 2)\n",
    "X= (X - np.mean(X))/np.std(X)\n",
    "model.fit(X)"
   ]
  },
  {
   "cell_type": "code",
   "execution_count": null,
   "id": "95d8e64e",
   "metadata": {},
   "outputs": [],
   "source": [
    "print((model.labels_ == y).sum()/len(y))"
   ]
  },
  {
   "cell_type": "code",
   "execution_count": null,
   "id": "332d10fe",
   "metadata": {},
   "outputs": [],
   "source": []
  }
 ],
 "metadata": {
  "kernelspec": {
   "display_name": "Python 3 (ipykernel)",
   "language": "python",
   "name": "python3"
  },
  "language_info": {
   "codemirror_mode": {
    "name": "ipython",
    "version": 3
   },
   "file_extension": ".py",
   "mimetype": "text/x-python",
   "name": "python",
   "nbconvert_exporter": "python",
   "pygments_lexer": "ipython3",
   "version": "3.12.2"
  }
 },
 "nbformat": 4,
 "nbformat_minor": 5
}
